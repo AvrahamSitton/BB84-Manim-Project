{
  "nbformat": 4,
  "nbformat_minor": 0,
  "metadata": {
    "colab": {
      "provenance": [],
      "authorship_tag": "ABX9TyMIuJO6mCdQxXvLzGdrdyER",
      "include_colab_link": true
    },
    "kernelspec": {
      "name": "python3",
      "display_name": "Python 3"
    },
    "language_info": {
      "name": "python"
    }
  },
  "cells": [
    {
      "cell_type": "markdown",
      "metadata": {
        "id": "view-in-github",
        "colab_type": "text"
      },
      "source": [
        "<a href=\"https://colab.research.google.com/github/AvrahamSitton/BB84-Manim-Project/blob/main/Untitled.ipynb\" target=\"_parent\"><img src=\"https://colab.research.google.com/assets/colab-badge.svg\" alt=\"Open In Colab\"/></a>"
      ]
    },
    {
      "cell_type": "code",
      "execution_count": 4,
      "metadata": {
        "colab": {
          "base_uri": "https://localhost:8080/"
        },
        "id": "r0x4_WeLSkDg",
        "outputId": "96d83a22-bff2-419c-e942-266535dc83e4"
      },
      "outputs": [
        {
          "output_type": "stream",
          "name": "stdout",
          "text": [
            "Mounted at /content/drive\n"
          ]
        }
      ],
      "source": [
        "from google.colab import drive\n",
        "drive.mount('/content/drive')"
      ]
    },
    {
      "cell_type": "code",
      "source": [
        "# Install system-level dependencies for graphics, video, and math formulas\n",
        "!sudo apt update\n",
        "!sudo apt install libcairo2-dev ffmpeg texlive texlive-latex-extra texlive-fonts-extra texlive-latex-recommended texlive-science tipa libpango1.0-dev\n",
        "\n",
        "# Install the Manim Python library\n",
        "!pip install manim"
      ],
      "metadata": {
        "colab": {
          "base_uri": "https://localhost:8080/"
        },
        "id": "ji7YZ1J3S1zA",
        "outputId": "a50a03d1-d21d-4e20-9684-f3b2ec3a1f9c"
      },
      "execution_count": 1,
      "outputs": [
        {
          "output_type": "stream",
          "name": "stdout",
          "text": [
            "\u001b[33m\r0% [Working]\u001b[0m\r            \rHit:1 https://cloud.r-project.org/bin/linux/ubuntu jammy-cran40/ InRelease\n",
            "\u001b[33m\r0% [Connecting to archive.ubuntu.com (185.125.190.83)] [Waiting for headers] [C\u001b[0m\r                                                                               \rHit:2 https://cli.github.com/packages stable InRelease\n",
            "\u001b[33m\r0% [Connecting to archive.ubuntu.com (185.125.190.83)] [Waiting for headers] [C\u001b[0m\r                                                                               \rHit:3 http://security.ubuntu.com/ubuntu jammy-security InRelease\n",
            "Hit:4 https://developer.download.nvidia.com/compute/cuda/repos/ubuntu2204/x86_64  InRelease\n",
            "Hit:5 http://archive.ubuntu.com/ubuntu jammy InRelease\n",
            "Hit:6 https://r2u.stat.illinois.edu/ubuntu jammy InRelease\n",
            "Hit:7 http://archive.ubuntu.com/ubuntu jammy-updates InRelease\n",
            "Hit:8 http://archive.ubuntu.com/ubuntu jammy-backports InRelease\n",
            "Hit:9 https://ppa.launchpadcontent.net/deadsnakes/ppa/ubuntu jammy InRelease\n",
            "Hit:10 https://ppa.launchpadcontent.net/graphics-drivers/ppa/ubuntu jammy InRelease\n",
            "Hit:11 https://ppa.launchpadcontent.net/ubuntugis/ppa/ubuntu jammy InRelease\n",
            "Reading package lists... Done\n",
            "Building dependency tree... Done\n",
            "Reading state information... Done\n",
            "47 packages can be upgraded. Run 'apt list --upgradable' to see them.\n",
            "\u001b[1;33mW: \u001b[0mSkipping acquire of configured file 'main/source/Sources' as repository 'https://r2u.stat.illinois.edu/ubuntu jammy InRelease' does not seem to provide it (sources.list entry misspelt?)\u001b[0m\n",
            "Reading package lists... Done\n",
            "Building dependency tree... Done\n",
            "Reading state information... Done\n",
            "libcairo2-dev is already the newest version (1.16.0-5ubuntu2).\n",
            "texlive is already the newest version (2021.20220204-1).\n",
            "texlive-fonts-extra is already the newest version (2021.20220204-1).\n",
            "texlive-latex-extra is already the newest version (2021.20220204-1).\n",
            "texlive-latex-recommended is already the newest version (2021.20220204-1).\n",
            "texlive-science is already the newest version (2021.20220204-1).\n",
            "tipa is already the newest version (2:1.3-21).\n",
            "libpango1.0-dev is already the newest version (1.50.6+ds-2ubuntu1).\n",
            "ffmpeg is already the newest version (7:4.4.2-0ubuntu0.22.04.1).\n",
            "0 upgraded, 0 newly installed, 0 to remove and 47 not upgraded.\n",
            "Requirement already satisfied: manim in /usr/local/lib/python3.12/dist-packages (0.19.0)\n",
            "Requirement already satisfied: Pillow>=9.1 in /usr/local/lib/python3.12/dist-packages (from manim) (11.3.0)\n",
            "Requirement already satisfied: Pygments>=2.0.0 in /usr/local/lib/python3.12/dist-packages (from manim) (2.19.2)\n",
            "Requirement already satisfied: av<14.0.0,>=9.0.0 in /usr/local/lib/python3.12/dist-packages (from manim) (13.1.0)\n",
            "Requirement already satisfied: beautifulsoup4>=4.12 in /usr/local/lib/python3.12/dist-packages (from manim) (4.13.5)\n",
            "Requirement already satisfied: click>=8.0 in /usr/local/lib/python3.12/dist-packages (from manim) (8.2.1)\n",
            "Requirement already satisfied: cloup>=2.0.0 in /usr/local/lib/python3.12/dist-packages (from manim) (3.0.8)\n",
            "Requirement already satisfied: decorator>=4.3.2 in /usr/local/lib/python3.12/dist-packages (from manim) (4.4.2)\n",
            "Requirement already satisfied: isosurfaces>=0.1.0 in /usr/local/lib/python3.12/dist-packages (from manim) (0.1.2)\n",
            "Requirement already satisfied: manimpango<1.0.0,>=0.5.0 in /usr/local/lib/python3.12/dist-packages (from manim) (0.6.0)\n",
            "Requirement already satisfied: mapbox-earcut>=1.0.0 in /usr/local/lib/python3.12/dist-packages (from manim) (1.0.3)\n",
            "Requirement already satisfied: moderngl<6.0.0,>=5.0.0 in /usr/local/lib/python3.12/dist-packages (from manim) (5.12.0)\n",
            "Requirement already satisfied: moderngl-window>=2.0.0 in /usr/local/lib/python3.12/dist-packages (from manim) (3.1.1)\n",
            "Requirement already satisfied: networkx>=2.6 in /usr/local/lib/python3.12/dist-packages (from manim) (3.5)\n",
            "Requirement already satisfied: numpy>=2.1 in /usr/local/lib/python3.12/dist-packages (from manim) (2.3.3)\n",
            "Requirement already satisfied: pycairo<2.0.0,>=1.13 in /usr/local/lib/python3.12/dist-packages (from manim) (1.28.0)\n",
            "Requirement already satisfied: pydub>=0.20.0 in /usr/local/lib/python3.12/dist-packages (from manim) (0.25.1)\n",
            "Requirement already satisfied: rich>=12.0.0 in /usr/local/lib/python3.12/dist-packages (from manim) (13.9.4)\n",
            "Requirement already satisfied: scipy>=1.13.0 in /usr/local/lib/python3.12/dist-packages (from manim) (1.16.1)\n",
            "Requirement already satisfied: screeninfo>=0.7 in /usr/local/lib/python3.12/dist-packages (from manim) (0.8.1)\n",
            "Requirement already satisfied: skia-pathops>=0.7.0 in /usr/local/lib/python3.12/dist-packages (from manim) (0.8.0.post2)\n",
            "Requirement already satisfied: srt>=3.0.0 in /usr/local/lib/python3.12/dist-packages (from manim) (3.5.3)\n",
            "Requirement already satisfied: svgelements>=1.8.0 in /usr/local/lib/python3.12/dist-packages (from manim) (1.9.6)\n",
            "Requirement already satisfied: tqdm>=4.0.0 in /usr/local/lib/python3.12/dist-packages (from manim) (4.67.1)\n",
            "Requirement already satisfied: typing-extensions>=4.0.0 in /usr/local/lib/python3.12/dist-packages (from manim) (4.15.0)\n",
            "Requirement already satisfied: watchdog>=2.0.0 in /usr/local/lib/python3.12/dist-packages (from manim) (6.0.0)\n",
            "Requirement already satisfied: soupsieve>1.2 in /usr/local/lib/python3.12/dist-packages (from beautifulsoup4>=4.12->manim) (2.8)\n",
            "Requirement already satisfied: glcontext>=3.0.0 in /usr/local/lib/python3.12/dist-packages (from moderngl<6.0.0,>=5.0.0->manim) (3.0.0)\n",
            "Requirement already satisfied: pyglet>=2.0.0 in /usr/local/lib/python3.12/dist-packages (from moderngl-window>=2.0.0->manim) (2.1.8)\n",
            "Requirement already satisfied: pyglm<3,>=2.7.0 in /usr/local/lib/python3.12/dist-packages (from moderngl-window>=2.0.0->manim) (2.8.2)\n",
            "Requirement already satisfied: markdown-it-py>=2.2.0 in /usr/local/lib/python3.12/dist-packages (from rich>=12.0.0->manim) (4.0.0)\n",
            "Requirement already satisfied: mdurl~=0.1 in /usr/local/lib/python3.12/dist-packages (from markdown-it-py>=2.2.0->rich>=12.0.0->manim) (0.1.2)\n"
          ]
        }
      ]
    },
    {
      "cell_type": "code",
      "source": [
        "!git clone https://github.com/AvrahamSitton/BB84-Manim-Project.git\n",
        "\n",
        "%cd BB84-Manim-Project"
      ],
      "metadata": {
        "colab": {
          "base_uri": "https://localhost:8080/"
        },
        "id": "8wHQgwNdT7Vl",
        "outputId": "d4916a1a-dd7a-4584-a9fa-595f9106a3bb"
      },
      "execution_count": 4,
      "outputs": [
        {
          "output_type": "stream",
          "name": "stdout",
          "text": [
            "Cloning into 'BB84-Manim-Project'...\n",
            "remote: Enumerating objects: 8, done.\u001b[K\n",
            "remote: Counting objects: 100% (8/8), done.\u001b[K\n",
            "remote: Compressing objects: 100% (5/5), done.\u001b[K\n",
            "remote: Total 8 (delta 0), reused 5 (delta 0), pack-reused 0 (from 0)\u001b[K\n",
            "Receiving objects: 100% (8/8), done.\n",
            "/content/BB84-Manim-Project\n"
          ]
        }
      ]
    }
  ]
}